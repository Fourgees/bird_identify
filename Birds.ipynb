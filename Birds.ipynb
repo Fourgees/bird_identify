{
 "cells": [
  {
   "cell_type": "code",
   "execution_count": 40,
   "id": "cd706c02",
   "metadata": {},
   "outputs": [
    {
     "name": "stdout",
     "output_type": "stream",
     "text": [
      "Requirement already satisfied: voila in /home/cwy/anaconda3/envs/py38fastai/lib/python3.8/site-packages (0.3.1)\n",
      "Requirement already satisfied: traitlets<6,>=5.0.3 in /home/cwy/anaconda3/envs/py38fastai/lib/python3.8/site-packages (from voila) (5.1.1)\n",
      "Requirement already satisfied: jupyter-client<8,>=6.1.3 in /home/cwy/anaconda3/envs/py38fastai/lib/python3.8/site-packages (from voila) (7.1.2)\n",
      "Requirement already satisfied: nbclient<0.6,>=0.4.0 in /home/cwy/anaconda3/envs/py38fastai/lib/python3.8/site-packages (from voila) (0.5.11)\n",
      "Requirement already satisfied: websockets>=9.0 in /home/cwy/anaconda3/envs/py38fastai/lib/python3.8/site-packages (from voila) (10.1)\n",
      "Requirement already satisfied: jupyter-server<2.0.0,>=0.3.0 in /home/cwy/anaconda3/envs/py38fastai/lib/python3.8/site-packages (from voila) (1.13.5)\n",
      "Requirement already satisfied: nbconvert<7,>=6.0.0 in /home/cwy/anaconda3/envs/py38fastai/lib/python3.8/site-packages (from voila) (6.4.2)\n",
      "Requirement already satisfied: pyzmq>=13 in /home/cwy/anaconda3/envs/py38fastai/lib/python3.8/site-packages (from jupyter-client<8,>=6.1.3->voila) (22.3.0)\n",
      "Requirement already satisfied: python-dateutil>=2.1 in /home/cwy/anaconda3/envs/py38fastai/lib/python3.8/site-packages (from jupyter-client<8,>=6.1.3->voila) (2.8.2)\n",
      "Requirement already satisfied: tornado>=4.1 in /home/cwy/anaconda3/envs/py38fastai/lib/python3.8/site-packages (from jupyter-client<8,>=6.1.3->voila) (6.1)\n",
      "Requirement already satisfied: jupyter-core>=4.6.0 in /home/cwy/anaconda3/envs/py38fastai/lib/python3.8/site-packages (from jupyter-client<8,>=6.1.3->voila) (4.9.1)\n",
      "Requirement already satisfied: nest-asyncio>=1.5 in /home/cwy/anaconda3/envs/py38fastai/lib/python3.8/site-packages (from jupyter-client<8,>=6.1.3->voila) (1.5.4)\n",
      "Requirement already satisfied: entrypoints in /home/cwy/anaconda3/envs/py38fastai/lib/python3.8/site-packages (from jupyter-client<8,>=6.1.3->voila) (0.4)\n",
      "Requirement already satisfied: prometheus-client in /home/cwy/anaconda3/envs/py38fastai/lib/python3.8/site-packages (from jupyter-server<2.0.0,>=0.3.0->voila) (0.13.1)\n",
      "Requirement already satisfied: Send2Trash in /home/cwy/anaconda3/envs/py38fastai/lib/python3.8/site-packages (from jupyter-server<2.0.0,>=0.3.0->voila) (1.8.0)\n",
      "Requirement already satisfied: nbformat in /home/cwy/anaconda3/envs/py38fastai/lib/python3.8/site-packages (from jupyter-server<2.0.0,>=0.3.0->voila) (5.1.3)\n",
      "Requirement already satisfied: argon2-cffi in /home/cwy/anaconda3/envs/py38fastai/lib/python3.8/site-packages (from jupyter-server<2.0.0,>=0.3.0->voila) (21.3.0)\n",
      "Requirement already satisfied: anyio<4,>=3.1.0 in /home/cwy/anaconda3/envs/py38fastai/lib/python3.8/site-packages (from jupyter-server<2.0.0,>=0.3.0->voila) (3.5.0)\n",
      "Requirement already satisfied: terminado>=0.8.3 in /home/cwy/anaconda3/envs/py38fastai/lib/python3.8/site-packages (from jupyter-server<2.0.0,>=0.3.0->voila) (0.13.1)\n",
      "Requirement already satisfied: ipython-genutils in /home/cwy/anaconda3/envs/py38fastai/lib/python3.8/site-packages (from jupyter-server<2.0.0,>=0.3.0->voila) (0.2.0)\n",
      "Requirement already satisfied: jinja2 in /home/cwy/anaconda3/envs/py38fastai/lib/python3.8/site-packages (from jupyter-server<2.0.0,>=0.3.0->voila) (3.0.3)\n",
      "Requirement already satisfied: websocket-client in /home/cwy/anaconda3/envs/py38fastai/lib/python3.8/site-packages (from jupyter-server<2.0.0,>=0.3.0->voila) (1.2.3)\n",
      "Requirement already satisfied: packaging in /home/cwy/anaconda3/envs/py38fastai/lib/python3.8/site-packages (from jupyter-server<2.0.0,>=0.3.0->voila) (21.3)\n",
      "Requirement already satisfied: idna>=2.8 in /home/cwy/anaconda3/envs/py38fastai/lib/python3.8/site-packages (from anyio<4,>=3.1.0->jupyter-server<2.0.0,>=0.3.0->voila) (3.3)\n",
      "Requirement already satisfied: sniffio>=1.1 in /home/cwy/anaconda3/envs/py38fastai/lib/python3.8/site-packages (from anyio<4,>=3.1.0->jupyter-server<2.0.0,>=0.3.0->voila) (1.2.0)\n",
      "Requirement already satisfied: pygments>=2.4.1 in /home/cwy/anaconda3/envs/py38fastai/lib/python3.8/site-packages (from nbconvert<7,>=6.0.0->voila) (2.11.2)\n",
      "Requirement already satisfied: defusedxml in /home/cwy/anaconda3/envs/py38fastai/lib/python3.8/site-packages (from nbconvert<7,>=6.0.0->voila) (0.7.1)\n",
      "Requirement already satisfied: jupyterlab-pygments in /home/cwy/anaconda3/envs/py38fastai/lib/python3.8/site-packages (from nbconvert<7,>=6.0.0->voila) (0.1.2)\n",
      "Requirement already satisfied: bleach in /home/cwy/anaconda3/envs/py38fastai/lib/python3.8/site-packages (from nbconvert<7,>=6.0.0->voila) (4.1.0)\n",
      "Requirement already satisfied: testpath in /home/cwy/anaconda3/envs/py38fastai/lib/python3.8/site-packages (from nbconvert<7,>=6.0.0->voila) (0.5.0)\n",
      "Requirement already satisfied: pandocfilters>=1.4.1 in /home/cwy/anaconda3/envs/py38fastai/lib/python3.8/site-packages (from nbconvert<7,>=6.0.0->voila) (1.5.0)\n",
      "Requirement already satisfied: mistune<2,>=0.8.1 in /home/cwy/anaconda3/envs/py38fastai/lib/python3.8/site-packages (from nbconvert<7,>=6.0.0->voila) (0.8.4)\n",
      "Requirement already satisfied: MarkupSafe>=2.0 in /home/cwy/anaconda3/envs/py38fastai/lib/python3.8/site-packages (from jinja2->jupyter-server<2.0.0,>=0.3.0->voila) (2.0.1)\n",
      "Requirement already satisfied: jsonschema!=2.5.0,>=2.4 in /home/cwy/anaconda3/envs/py38fastai/lib/python3.8/site-packages (from nbformat->jupyter-server<2.0.0,>=0.3.0->voila) (4.4.0)\n",
      "Requirement already satisfied: importlib-resources>=1.4.0 in /home/cwy/anaconda3/envs/py38fastai/lib/python3.8/site-packages (from jsonschema!=2.5.0,>=2.4->nbformat->jupyter-server<2.0.0,>=0.3.0->voila) (5.4.0)\n",
      "Requirement already satisfied: attrs>=17.4.0 in /home/cwy/anaconda3/envs/py38fastai/lib/python3.8/site-packages (from jsonschema!=2.5.0,>=2.4->nbformat->jupyter-server<2.0.0,>=0.3.0->voila) (21.4.0)\n",
      "Requirement already satisfied: pyrsistent!=0.17.0,!=0.17.1,!=0.17.2,>=0.14.0 in /home/cwy/anaconda3/envs/py38fastai/lib/python3.8/site-packages (from jsonschema!=2.5.0,>=2.4->nbformat->jupyter-server<2.0.0,>=0.3.0->voila) (0.18.1)\n",
      "Requirement already satisfied: zipp>=3.1.0 in /home/cwy/anaconda3/envs/py38fastai/lib/python3.8/site-packages (from importlib-resources>=1.4.0->jsonschema!=2.5.0,>=2.4->nbformat->jupyter-server<2.0.0,>=0.3.0->voila) (3.7.0)\n",
      "Requirement already satisfied: six>=1.5 in /home/cwy/anaconda3/envs/py38fastai/lib/python3.8/site-packages (from python-dateutil>=2.1->jupyter-client<8,>=6.1.3->voila) (1.16.0)\n",
      "Requirement already satisfied: ptyprocess in /home/cwy/anaconda3/envs/py38fastai/lib/python3.8/site-packages (from terminado>=0.8.3->jupyter-server<2.0.0,>=0.3.0->voila) (0.7.0)\n",
      "Requirement already satisfied: argon2-cffi-bindings in /home/cwy/anaconda3/envs/py38fastai/lib/python3.8/site-packages (from argon2-cffi->jupyter-server<2.0.0,>=0.3.0->voila) (21.2.0)\n",
      "Requirement already satisfied: cffi>=1.0.1 in /home/cwy/anaconda3/envs/py38fastai/lib/python3.8/site-packages (from argon2-cffi-bindings->argon2-cffi->jupyter-server<2.0.0,>=0.3.0->voila) (1.15.0)\n",
      "Requirement already satisfied: pycparser in /home/cwy/anaconda3/envs/py38fastai/lib/python3.8/site-packages (from cffi>=1.0.1->argon2-cffi-bindings->argon2-cffi->jupyter-server<2.0.0,>=0.3.0->voila) (2.21)\n",
      "Requirement already satisfied: webencodings in /home/cwy/anaconda3/envs/py38fastai/lib/python3.8/site-packages (from bleach->nbconvert<7,>=6.0.0->voila) (0.5.1)\n",
      "Requirement already satisfied: pyparsing!=3.0.5,>=2.0.2 in /home/cwy/anaconda3/envs/py38fastai/lib/python3.8/site-packages (from packaging->jupyter-server<2.0.0,>=0.3.0->voila) (3.0.7)\n",
      "Enabling: voila\n",
      "- Writing config: /home/cwy/anaconda3/envs/py38fastai/etc/jupyter\n",
      "    - Validating...\n",
      "      voila 0.3.1 \u001b[32mOK\u001b[0m\n"
     ]
    }
   ],
   "source": [
    "!pip install -Uqq fastbook\n",
    "!pip install voila\n",
    "!jupyter serverextension enable --sys-prefix voila\n",
    "\n",
    "import fastbook\n",
    "\n",
    "fastbook.setup_book()"
   ]
  },
  {
   "cell_type": "code",
   "execution_count": 41,
   "id": "4010f8d8",
   "metadata": {},
   "outputs": [],
   "source": [
    "from fastbook import *\n",
    "from fastai.vision.widgets import *"
   ]
  },
  {
   "cell_type": "code",
   "execution_count": 42,
   "id": "f8896264",
   "metadata": {},
   "outputs": [],
   "source": [
    "path = Path()\n",
    "learn_inf = load_learner(path/'birds.pkl', cpu=True)\n",
    "btn_upload = widgets.FileUpload()\n",
    "out_pl = widgets.Output()\n",
    "lbl_pred = widgets.Label()"
   ]
  },
  {
   "cell_type": "code",
   "execution_count": 43,
   "id": "eac1e120",
   "metadata": {},
   "outputs": [],
   "source": [
    "def on_data_change(change):\n",
    "    lbl_pred.value = ''\n",
    "    img = PILImage.create(btn_upload.data[-1])\n",
    "    out_pl.clear_output()\n",
    "    with out_pl: display(img.to_thumb(128,128))\n",
    "    pred,pred_idx,probs = learn_inf.predict(img)\n",
    "    lbl_pred.value = f'Prediction: {pred}; Probability: {probs[pred_idx]:.04f}'"
   ]
  },
  {
   "cell_type": "code",
   "execution_count": 44,
   "id": "81a4a3fc",
   "metadata": {},
   "outputs": [],
   "source": [
    "btn_upload.observe(on_data_change, names=['data'])\n"
   ]
  },
  {
   "cell_type": "code",
   "execution_count": 33,
   "id": "e3e67a82",
   "metadata": {},
   "outputs": [
    {
     "data": {
      "application/vnd.jupyter.widget-view+json": {
       "model_id": "54f3215cdb114c408ee55645ef52788b",
       "version_major": 2,
       "version_minor": 0
      },
      "text/plain": [
       "VBox(children=(Label(value='Select your bird!'), FileUpload(value={'american-robin.jpg': {'metadata': {'name':…"
      ]
     },
     "metadata": {},
     "output_type": "display_data"
    }
   ],
   "source": [
    "display(VBox([widgets.Label('Select your bird!'), btn_upload, out_pl, lbl_pred]))\n"
   ]
  },
  {
   "cell_type": "code",
   "execution_count": null,
   "id": "67b6ce00",
   "metadata": {},
   "outputs": [],
   "source": []
  }
 ],
 "metadata": {
  "kernelspec": {
   "display_name": "Python [conda env:py38fastai]",
   "language": "python",
   "name": "conda-env-py38fastai-py"
  },
  "language_info": {
   "codemirror_mode": {
    "name": "ipython",
    "version": 3
   },
   "file_extension": ".py",
   "mimetype": "text/x-python",
   "name": "python",
   "nbconvert_exporter": "python",
   "pygments_lexer": "ipython3",
   "version": "3.8.12"
  }
 },
 "nbformat": 4,
 "nbformat_minor": 5
}
